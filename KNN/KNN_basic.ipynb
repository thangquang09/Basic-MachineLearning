{
 "cells": [
  {
   "cell_type": "markdown",
   "metadata": {},
   "source": [
    "# K-Nearest Neighbors"
   ]
  },
  {
   "cell_type": "markdown",
   "metadata": {},
   "source": [
    "## I. Giới thiệu"
   ]
  },
  {
   "cell_type": "markdown",
   "metadata": {},
   "source": [
    "K lân cận (K-nearest neighbor hay KNN) là một trong những thuật toán học có giám sát đơn giản nhất. Khi huấn luyện, thuật toán này gần như không học một\n",
    "điều gì từ dữ liệu huấn luyện mà ghi nhớ lại một cách máy móc toàn bộ dữ liệu đó. Mọi tính toán được thực hiện tại pha kiểm tra. KNN có thể được áp dụng\n",
    "vào các bài toán phân loại và hồi quy. <br><br>\n",
    "KNN là thuật toán đi tìm đầu ra của một điểm dữ liệu mới chỉ dựa trên thông\n",
    "tin của K điểm dữ liệu gần nhất trong tập huấn luyện. <br><br>\n",
    "Với KNN, mọi điểm trong tập huấn luyện đều được mô hình mô tả một cách\n",
    "chính xác. Việc này khiến overfitting dễ xảy ra với KNN."
   ]
  },
  {
   "cell_type": "markdown",
   "metadata": {},
   "source": [
    "## II. Phân tích toán học"
   ]
  },
  {
   "cell_type": "markdown",
   "metadata": {},
   "source": [
    "Không có hàm mất mát hay bài toán tối ưu nào cần thực hiện trong quá trìnhhuấn luyện KNN. Mọi tính toán được tiến hành ở bước kiểm tra. Vì KNN ra\n",
    "quyết định dựa trên các điểm gần nhất. Vì vậy ta cần quan tâm 2 điều: Khoảng cách và tính toán khoảng cách sao cho hiệu quả.<br><br>\n",
    "* Với vấn đề thứ nhất, mỗi điểm dữ liệu được thể hiện bằng một vector đặc trưng,\n",
    "khoảng cách giữa hai điểm chính là khoảng cách giữa hai vector đó. Có nhiều\n",
    "loại khoảng cách khác nhau tuỳ vào bài toán, nhưng khoảng cách được sử dụng\n",
    "nhiều nhất là khoảng cách Euclid\n",
    "\n",
    "* Vấn đề thứ hai cần được lưu tâm hơn, đặc biệt với các bài toán có tập huấn luyện\n",
    "lớn và vector dữ liệu có kích thước lớn. Giả sử các vector huấn luyện là các cột\n",
    "của ma trận $X$ $\\in$ $\\mathbb{R}^{d×N}$  với $d$ và $N$ lớn. KNN sẽ phải tính khoảng cách từ một điểm dữ liệu mới $z \\in \\mathbb{R}^d$ đến toàn bộ $N$ điểm dữ liệu đã cho và chọn ra $K$ khoảng cách nhỏ nhất. Nếu không có cách tính hiệu quả, khối lượng tính toán sẽ rất lớn."
   ]
  },
  {
   "cell_type": "markdown",
   "metadata": {},
   "source": [
    "### 1.Khoảng cách từ một điểm tới từng điểm trong một tập hợp"
   ]
  },
  {
   "cell_type": "markdown",
   "metadata": {},
   "source": [
    "Khoảng cách Euclid từ một điểm $z$ đến một điểm $x_i$ trong tập huấn luyện được định nghĩa bởi $||z - x_i||_2$. Người ta thường bình phương khoảng cách để tránh phép tính căn bậc 2. Việc bình phương không ảnh hưởng đến thứ tự của khoảng cách. <br>\n",
    "Khai triển: <br>\n",
    "$$||z - x_i||_2^2 = (z - x_i)^T(z - x_i) = ||z||_2^2 + ||x_i||_2^2 - 2x_i^Tz \\tag{1}$$\n",
    "Để tìm ra $x_i$ gần $z$ nhất ta có thể bỏ qa số hạng đầu. Nếu có nhiều điểm dữ liệu trong tập kiểm tra thì $||x_i||_2^2$ có thể được tính trước và lưu vào bộ nhớ. Sau đó ta chỉ việc <i>tính tích vô hướng</i> của $x_i^Tz$"
   ]
  },
  {
   "cell_type": "markdown",
   "metadata": {},
   "source": [
    "#### Ví dụ với Python"
   ]
  },
  {
   "cell_type": "markdown",
   "metadata": {},
   "source": [
    "Trước hết, chọn $d$ và $N$ là các giá trị lớn và khai báo ngẫu nhiên $X$ và $z$. Lưu ý, chiều thứ nhất thường là thứ tự của điểm dữ liệu"
   ]
  },
  {
   "cell_type": "code",
   "execution_count": 45,
   "metadata": {},
   "outputs": [
    {
     "data": {
      "text/plain": [
       "((10000, 1000), (1000,))"
      ]
     },
     "execution_count": 45,
     "metadata": {},
     "output_type": "execute_result"
    }
   ],
   "source": [
    "import numpy as np\n",
    "from time import time #Để so sánh tốc độ chạy\n",
    "np.random.seed(7)\n",
    "d, N = 1000, 10000 #Chiều, số điểm dữ liệu trong tập huấn luyện\n",
    "X = np.random.randn(N, d) #Random ma trận N dòng d cột\n",
    "z = np.random.randn(d)\n",
    "X.shape, z.shape"
   ]
  },
  {
   "cell_type": "markdown",
   "metadata": {},
   "source": [
    "Tiếp theo ta viết ba hàm số <br>\n",
    "* a. dist_pp($z$, $x$) tính bình phương khoảng cách Euclid giữa $z$ và $x$. Hàm này lấy $z - x$ rồi bình phương chuẩn 2 của nó\n",
    "* b.dist_ps_naive($z$, $X$) tính bình phương khoảng cách giữa $z$ và mỗi hàng của $X$. Trong hàm này, các khoảng cách được xây dựng dựa trên việc tính từng giá\n",
    "trị dist_pp($z$, $X[i]$).\n",
    "* c.dist_ps_fast($z$, $X$) tính bình phương khoảng cách giữa $z$ và mỗi hàng của $X$, tuy nhiên, kết quả được tính dựa trên đẳng thức (1). Ta cần tính tổng bình phương các phần tử của mỗi điểm dữ liệu trong $X$ và tính tích vô hướng $X \\cdot z$\n"
   ]
  },
  {
   "cell_type": "code",
   "execution_count": 46,
   "metadata": {},
   "outputs": [
    {
     "name": "stdout",
     "output_type": "stream",
     "text": [
      "Naive point 2 set, running time: 0.12208151817321777 s\n",
      "Fast point 2 set, running time: 0.06885838508605957 s\n",
      "Result Difference: 2.3518616793012143e-11\n"
     ]
    }
   ],
   "source": [
    "def dist_pp(z, x):\n",
    "    d = z - x.reshape(z.shape) # để z và x có cùng chiều\n",
    "    return np.sum(d * d)\n",
    "\n",
    "# Từ một điểm đến các điểm trong tập hợp, naive\n",
    "def dist_ps_naive(z, X):\n",
    "    N = X.shape[0]\n",
    "    res = np.zeros((1, N))\n",
    "    for i in range (N):\n",
    "        res[0][i] = dist_pp(z, X[i])\n",
    "    return res\n",
    "\n",
    "# Từ một điểm đến các điểm trong tập hợp, fast\n",
    "def dist_ps_fast(z, X):\n",
    "    X2 = np.sum(X*X, 1) # bình phương chuẩn 2 của X\n",
    "    z2 = np.sum(z*z) # bình phương chuẩn 2 của z\n",
    "    return X2 + z2 - 2*(X@z)\n",
    "\n",
    "t1 = time()\n",
    "D1 = dist_ps_naive(z, X)\n",
    "\n",
    "print('Naive point 2 set, running time: {} s'.format(time() - t1))\n",
    "\n",
    "t1 = time()\n",
    "D2 = dist_ps_fast(z, X)\n",
    "print('Fast point 2 set, running time: {} s'.format(time() - t1))\n",
    "print('Result Difference: {}'.format(np.linalg.norm(D1 - D2)))"
   ]
  },
  {
   "cell_type": "markdown",
   "metadata": {},
   "source": [
    "Kết quả là tốc độ của cách 2 nhanh hơn gấp đôi cách 1. Tỉ lệ này còn lớn hơn khi kích thước dữ liệu tăng lên và $||x_i||_2^2$ được tính từ trước. Quan trọng hơn sự chênh lệch 2 hàm nhỏ dẫn đến cách 2 được ưu tiên hơn"
   ]
  },
  {
   "cell_type": "markdown",
   "metadata": {},
   "source": [
    "### 2. Khoảng cách giữa từng cặp điểm trong hai tập hợp"
   ]
  },
  {
   "cell_type": "markdown",
   "metadata": {},
   "source": [
    "Thông thường, tập kiểm tra bao gồm nhiều điểm dữ liệu tạo thành một ma trận $Z$. Ta phải tính từng cặp khoảng cách giữa mỗi điểm trong tập kiểm tra và một\n",
    "điểm trong tập huấn luyện. Nếu mỗi tập có 1000 phần tử, có một triệu khoảng cách cần tính. Nếu không có phương pháp tính hiệu quả, thời gian thực hiện sẽ\n",
    "rất dài."
   ]
  },
  {
   "cell_type": "markdown",
   "metadata": {},
   "source": [
    "Đoạn code 1 sử dụng dòng for để tính khoảng cách từng điểm trong tập thứ nhất đến tất cả điểm trong tập thứ hai thông qua hàm dist_ps_fast(). Đoạn code thứ 2 là dùng công thức (1)."
   ]
  },
  {
   "cell_type": "code",
   "execution_count": 47,
   "metadata": {},
   "outputs": [
    {
     "name": "stdout",
     "output_type": "stream",
     "text": [
      "half fast set2set running time: 4.432574272155762 s\n",
      "fast set2set running time 0.09580111503601074 s\n",
      "Result difference: 9.627147486217651e-11\n"
     ]
    }
   ],
   "source": [
    "Z = np.random.randn(100, d)\n",
    "def dist_ss_0(Z, X):\n",
    "    M, N = Z.shape[0], X.shape[0]\n",
    "    res = np.zeros((M, N))\n",
    "    for i in range(M):\n",
    "        res[i] = dist_ps_fast(Z[i], X)\n",
    "    return res\n",
    "#----------------------------------------------------------------\n",
    "def dist_ss_fast(Z, X):\n",
    "    X2 = np.sum(X*X, 1) # square of l2 norm of each ROW of X\n",
    "    Z2 = np.sum(Z*Z, 1) # square of l2 norm of each ROW of Z\n",
    "    return Z2.reshape(-1, 1) + X2.reshape(1, -1) - 2*(Z @ X.T)\n",
    "#----------------------------------------------------------------\n",
    "t1 = time()\n",
    "D3 = dist_ss_0(Z, X)\n",
    "print('half fast set2set running time:', time() - t1, 's')\n",
    "t1 = time()\n",
    "D4 = dist_ss_fast(Z, X)\n",
    "print('fast set2set running time', time() - t1, 's')\n",
    "print('Result difference:', np.linalg.norm(D3 - D4))\n"
   ]
  },
  {
   "cell_type": "markdown",
   "metadata": {},
   "source": [
    "## III. Ví dụ trên cơ sở dữ liệu Iris"
   ]
  },
  {
   "cell_type": "markdown",
   "metadata": {},
   "source": [
    "Bộ dữ liệu hoa Iris là một bộ dữ liệu nhỏ. Bộ dữ liệu này bao gồm thông tin của ba nhãn hoa Iris khác nhau. Mỗi nhãn chứa thông tin của 50 bông hoa với dữ liệu là bốn thông tin: chiều dài, chiều rộng đài hoa, và chiều dài, chiều rộng cánh hoa. Chú ý rằng các điểm dữ liệu không phải là các\n",
    "bức ảnh mà chỉ là một vector đặc trưng bốn chiếu gồm các thông tin ở trên."
   ]
  },
  {
   "cell_type": "code",
   "execution_count": 48,
   "metadata": {},
   "outputs": [],
   "source": [
    "from sklearn.neighbors import KNeighborsClassifier\n",
    "from sklearn import datasets\n",
    "from sklearn.model_selection import train_test_split\n",
    "from sklearn.metrics import accuracy_score\n",
    "\n",
    "iris = datasets.load_iris()\n",
    "X = iris.data\n",
    "y = iris.target"
   ]
  },
  {
   "cell_type": "code",
   "execution_count": 49,
   "metadata": {},
   "outputs": [
    {
     "name": "stdout",
     "output_type": "stream",
     "text": [
      "Labels: [0 1 2]\n",
      "Training size: 20, test size: 130\n"
     ]
    }
   ],
   "source": [
    "#split dataset to tranning set and test set\n",
    "print('Labels:', np.unique(y))\n",
    "X_train, X_test, y_train, y_test = train_test_split(X, y, test_size=130, random_state=7)\n",
    "print(f\"Training size: {X_train.shape[0]}, test size: {X_test.shape[0]:}\")"
   ]
  },
  {
   "cell_type": "markdown",
   "metadata": {},
   "source": [
    "* Fit model với K = 1"
   ]
  },
  {
   "cell_type": "code",
   "execution_count": 55,
   "metadata": {},
   "outputs": [
    {
     "name": "stdout",
     "output_type": "stream",
     "text": [
      "Accuracy of 1NN: 92.31 %\n"
     ]
    }
   ],
   "source": [
    "model = KNeighborsClassifier(n_neighbors=1, p = 2, metric= 'minkowski') #p = 2 là chuẩn 2\n",
    "model.fit(X_train, y_train)\n",
    "np.printoptions(precision=2)\n",
    "y_pred = model.predict(X_test)\n",
    "print(f\"Accuracy of 1NN: {100*accuracy_score(y_test, y_pred):.2f} %\")"
   ]
  },
  {
   "cell_type": "markdown",
   "metadata": {},
   "source": [
    "* Fit model với K = 7"
   ]
  },
  {
   "cell_type": "code",
   "execution_count": 56,
   "metadata": {},
   "outputs": [
    {
     "name": "stdout",
     "output_type": "stream",
     "text": [
      "Accuracy of 7NN: 93.85 %\n"
     ]
    }
   ],
   "source": [
    "model2 = KNeighborsClassifier(n_neighbors=7, p = 2, metric= 'minkowski') #p = 2 là chuẩn 2\n",
    "model2.fit(X_train, y_train)\n",
    "np.printoptions(precision=2)\n",
    "y_pred = model2.predict(X_test)\n",
    "print(f\"Accuracy of 7NN: {100*accuracy_score(y_test, y_pred):.2f} %\")"
   ]
  },
  {
   "cell_type": "markdown",
   "metadata": {},
   "source": [
    "Nhận thấy rằng khi sử dụng nhiều điểm lân cận hơn, độ chính xác đã tăng lên.\n",
    "Phương pháp dựa trên đa số trong lân cận còn được gọi là bầu chọn đa số.\n"
   ]
  },
  {
   "cell_type": "markdown",
   "metadata": {},
   "source": [
    "### Đánh trọng số cho các điểm lân cận"
   ]
  },
  {
   "cell_type": "markdown",
   "metadata": {},
   "source": [
    "Trong kỹ thuật bầu chọn đa số phía trên, các điểm trong bảy điểm gần nhất đều có vai trò như nhau và giá trị “lá phiếu” của mỗi điểm này cũng như nhau. Cách\n",
    "bầu chọn này có thể thiếu công bằng vì các điểm gần hơn nên có tầm ảnh hưởng lớn hơn. Để thực hiện việc này, ta chỉ cần đánh trọng số khác nhau cho từng điểm trong bảy điểm gần nhất này. Cách đánh trọng số phải thoả mãn điều kiện điểm lân cận hơn được đánh trọng số cao hơn. Vậy ta chỉ cần lấy trọng số là nghịch đảo khoảng cách. <br>\n",
    "\n",
    "Để thực hiện việc này trong scikit-learn, ta chỉ cần gán weights = ’distance’. Giá\n",
    "trị mặc định của weights là ’uniform’, tương ứng với việc coi tất cả các điểm lân\n",
    "cận có giá trị bằng nhau như trong bầu chọn đa số.\n"
   ]
  },
  {
   "cell_type": "code",
   "execution_count": 58,
   "metadata": {},
   "outputs": [
    {
     "name": "stdout",
     "output_type": "stream",
     "text": [
      "Accuracy of 7NN (1/distance weights): 94.62 %\n"
     ]
    }
   ],
   "source": [
    "model3 = KNeighborsClassifier(n_neighbors=7, p = 2, metric='minkowski', weights='distance')\n",
    "model3.fit(X_train, y_train)\n",
    "y_pred = model3.predict(X_test)\n",
    "\n",
    "print(f\"Accuracy of 7NN (1/distance weights): {100*accuracy_score(y_test, y_pred):.2f} %\")"
   ]
  },
  {
   "cell_type": "markdown",
   "metadata": {},
   "source": [
    "Độ chính xác tiếp tục tăng lên"
   ]
  },
  {
   "cell_type": "markdown",
   "metadata": {},
   "source": [
    "### KNN với trọng số tự định nghĩa"
   ]
  },
  {
   "cell_type": "markdown",
   "metadata": {},
   "source": [
    "Ngoài hai cách đánh trọng số weights = ‘uniform’ và weights = ‘distance’, scikit-learn còn cung cấp cách đánh trọng số tùy chọn. Ví dụ, một cách đánh trọng số phổ biến khác thường được dùng là:\n",
    "$$w_i = exp\\left( \\frac{- ||z - x_i||_2^2}{\\sigma ^ 2} \\right)$$\n",
    "Trong đó $w_i$ là trọng số của điểm gần thứ $i\\ (x_i)$ của điểm dữ liệu đang xét $z, \\sigma$ là một số dương. Hàm số này thỏa điều kiện điểm cần $x$ thì trọng số càng cao (cao nhất bằng 1)"
   ]
  },
  {
   "cell_type": "code",
   "execution_count": 59,
   "metadata": {},
   "outputs": [
    {
     "name": "stdout",
     "output_type": "stream",
     "text": [
      "Accuracy of 7NN (customized weights): 95.38 %\n"
     ]
    }
   ],
   "source": [
    "def myweight(distances):\n",
    "    sigma2 = .4 # chúng ta có thể đổi giá trị này\n",
    "    return np.exp(-distances**2/sigma2)\n",
    "\n",
    "model = KNeighborsClassifier(n_neighbors=7, p=2, weights=myweight)\n",
    "model.fit(X_train, y_train)\n",
    "y_pred = model.predict(X_test)\n",
    "\n",
    "print(f\"Accuracy of 7NN (customized weights): {100*accuracy_score(y_test, y_pred):.2f} %\")"
   ]
  },
  {
   "cell_type": "markdown",
   "metadata": {},
   "source": [
    "### K Nearest Neighbor regression"
   ]
  },
  {
   "cell_type": "markdown",
   "metadata": {},
   "source": [
    "Nguồn trên sklearn"
   ]
  },
  {
   "cell_type": "markdown",
   "metadata": {},
   "source": [
    "#### Generate sample data"
   ]
  },
  {
   "cell_type": "code",
   "execution_count": 65,
   "metadata": {},
   "outputs": [],
   "source": [
    "import matplotlib.pyplot as plt\n",
    "import numpy as np\n",
    "\n",
    "from sklearn import neighbors\n",
    "\n",
    "np.random.seed(0)\n",
    "X = np.sort(5 * np.random.rand(40, 1), axis=0)\n",
    "T = np.linspace(0, 5, 500)[:, np.newaxis]\n",
    "y = np.sin(X).ravel()\n",
    "\n",
    "# Add noise to targets\n",
    "y[::5] += 1 * (0.5 - np.random.rand(8))"
   ]
  },
  {
   "cell_type": "markdown",
   "metadata": {},
   "source": [
    "#### Fit regression model"
   ]
  },
  {
   "cell_type": "code",
   "execution_count": 66,
   "metadata": {},
   "outputs": [
    {
     "data": {
      "image/png": "[encoded data removed]",
      "text/plain": [
       "<Figure size 640x480 with 2 Axes>"
      ]
     },
     "metadata": {},
     "output_type": "display_data"
    }
   ],
   "source": [
    "n_neighbors = 5\n",
    "\n",
    "for i, weights in enumerate([\"uniform\", \"distance\"]):\n",
    "    knn = neighbors.KNeighborsRegressor(n_neighbors, weights=weights)\n",
    "    y_ = knn.fit(X, y).predict(T)\n",
    "\n",
    "    plt.subplot(2, 1, i + 1)\n",
    "    plt.scatter(X, y, color=\"darkorange\", label=\"data\")\n",
    "    plt.plot(T, y_, color=\"navy\", label=\"prediction\")\n",
    "    plt.axis(\"tight\")\n",
    "    plt.legend()\n",
    "    plt.title(\"KNeighborsRegressor (k = %i, weights = '%s')\" % (n_neighbors, weights))\n",
    "\n",
    "plt.tight_layout()\n",
    "plt.show();"
   ]
  },
  {
   "cell_type": "markdown",
   "metadata": {},
   "source": [
    "## IV. Thảo luận"
   ]
  },
  {
   "cell_type": "markdown",
   "metadata": {},
   "source": [
    "#### Ưu điểm:\n",
    "* Độ phức tạp tính toán của quá trình huấn luyện gần như bằng 0. Việc tính bình phương chuẩn 2 của mỗi điểm dữ liệu huấn luyện có thể được thực hiện\n",
    "trước trong bước này.\n",
    "* Việc dự đoán kết quả của dữ liệu mới tương đối đơn giản sau khi đã xác định\n",
    "được các điểm lân cận.\n",
    "* KNN không không cần giả sử về phân phối của từng nhãn.\n",
    "#### Nhược điểm:\n",
    "* KNN nhạy cảm với nhiễu khi K nhỏ.\n",
    "* Khi sử dụng KNN, phần lớn tính toán nằm ở pha kiểm tra. Trong đó việc\n",
    "tính khoảng cách tới từng điểm dữ liệu huấn luyện tốn nhiều thời gian, đặc\n",
    "biệt là với các cơ sở dữ liệu có số chiều lớn và có nhiều điểm dữ liệu. K càng\n",
    "lớn thì độ phức tạp càng cao. Ngoài ra, việc lưu toàn bộ dữ liệu trong bộ nhớ\n",
    "cũng ảnh hưởng tới hiệu năng của KNN.\n"
   ]
  }
 ],
 "metadata": {
  "kernelspec": {
   "display_name": "Python 3",
   "language": "python",
   "name": "python3"
  },
  "language_info": {
   "codemirror_mode": {
    "name": "ipython",
    "version": 3
   },
   "file_extension": ".py",
   "mimetype": "text/x-python",
   "name": "python",
   "nbconvert_exporter": "python",
   "pygments_lexer": "ipython3",
   "version": "3.11.3"
  }
 },
 "nbformat": 4,
 "nbformat_minor": 2
}
