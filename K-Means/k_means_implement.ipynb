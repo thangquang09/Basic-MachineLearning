{
 "cells": [
  {
   "cell_type": "markdown",
   "metadata": {},
   "source": [
    "# K-means Clustering\n",
    "\n",
    "## Giới thiệu:\n",
    "\n",
    "Trước hết tạo tâm cụm và dữ liệu cho từng cụm bằng cách lấy mẫu theo phân phối chuẩn có kỳ vọng là tâm của cụm đó và ma trận hiệp phương sai là ma trận đơn vị. Hàm `cdist` trong `scipy.spatial.distance` được dùng để tính khoảng cách giữa 2 điểm.\n",
    "\n",
    "Dữ liệu được tạo bằng cách lấy ngẫu nhiên 500 điểm cho mỗi cụm với kỳ vọng lần lượt là (2, 2), (8, 3), (3, 6); ma trận hiệp phương sai là ma trận đơn vị"
   ]
  },
  {
   "cell_type": "code",
   "execution_count": 1,
   "metadata": {},
   "outputs": [],
   "source": [
    "from __future__ import print_function\n",
    "import numpy as np\n",
    "import matplotlib.pyplot as plt\n",
    "from scipy.spatial.distance  import cdist\n",
    "import random"
   ]
  },
  {
   "cell_type": "code",
   "execution_count": 13,
   "metadata": {},
   "outputs": [],
   "source": [
    "np.random.seed(18)\n",
    "means = [[2, 2], [8, 3], [3, 6]] # tâm\n",
    "cov = [[1, 0], [0, 1]] # hiệp phương sai\n",
    "N = 500\n",
    "X0 = np.random.multivariate_normal(means[0], cov, N)\n",
    "X1 = np.random.multivariate_normal(means[1], cov, N)\n",
    "X2 = np.random.multivariate_normal(means[2], cov, N)\n",
    "\n",
    "X = np.concatenate((X0, X1, X2), axis = 0) # Kết hợp các mẫu thành một ma trận\n",
    "K = 3 # 3 clusters\n",
    "original_label = np.asarray([0]*N + [1]*N + [2]*N).T # Tạo mãng chứa nhãn gốc của mỗi mẫu dữ liệu. Cụm X0 có mẫu 0, ..."
   ]
  },
  {
   "cell_type": "markdown",
   "metadata": {},
   "source": [
    "## Các hàm cần thiết cho thuật toán phân cụm **K-means**\n",
    "\n",
    "Trước khi viết thuật toán chính ta cần một số hàm phụ trợ:\n",
    "\n",
    "a. `kmeans_init_centroids` khởi tạo các tâm cụm. <br>\n",
    "b. `kmeans_asign_label` tìm nhãn mới có các điểm khi biết tâm cụm<br>\n",
    "c. `kmeans_update_centroids` cập nhật tâm mới sau khi biết nhãn từng điểm<br>\n",
    "d. `has_converged` kiểm tra điều kiện dừng của thuật toán"
   ]
  },
  {
   "cell_type": "code",
   "execution_count": 16,
   "metadata": {},
   "outputs": [],
   "source": [
    "def kmeans_init_centroids(X, k):\n",
    "    # tìm ngẫu nhiên k hàng để làm tâm ban đầu cho thuật toán\n",
    "    return X[np.random.choice(X.shape[0], k, replace=False)]\n",
    "\n",
    "# Hàm này chọn ngẫu nhiên k hàng từ dữ liệu X để làm tâm ban đầu cho thuật toán.\n",
    "\n",
    "def kmeans_assign_labels(X, centroids):\n",
    "    # tính toán cặp điểm X_i và tâm m_j\n",
    "    D = cdist(X, centroids)\n",
    "    # trả về chỉ số của tâm gần nhất\n",
    "    return np.argmin(D, axis=1)\n",
    "\n",
    "# Hàm này tính toán khoảng cách giữa mỗi điểm dữ liệu X_i và tất cả các tâm m_j, sau đó gán nhãn cho mỗi điểm dữ liệu bằng chỉ số của tâm gần nhất.\n",
    "\n",
    "def kmeans_update_centroids(X, labels, K):\n",
    "    centroids = np.zeros((K, X.shape[1]))\n",
    "    for k in range(K):\n",
    "        # collect all points that are assigned to the k-th cluster\n",
    "        Xk = X[labels == k, :]\n",
    "        centroids[k,:] = np.mean(Xk, axis = 0) # take average\n",
    "    return centroids\n",
    "\n",
    "# Hàm này cập nhật vị trí của các tâm dựa trên dữ liệu đã được gán nhãn.\n",
    "# Đối với mỗi cụm, nó tính trung bình cộng của tất cả các điểm dữ liệu trong cụm đó và đặt tâm của cụm đó tại vị trí trung bình này.\n",
    "\n",
    "def has_converged(centroids, new_centroids):\n",
    "    # Trả về True nếu cả 2 tâm đều như nhau\n",
    "    return (set([tuple(a) for a in centroids]) == set([tuple(a) for a in new_centroids]))\n",
    "\n",
    "# Hàm này kiểm tra xem thuật toán có đã hội tụ hay chưa. Nếu tất cả các tâm không thay đổi sau một vòng lặp, thì thuật toán đã hội tụ và hàm trả về True."
   ]
  },
  {
   "cell_type": "markdown",
   "metadata": {},
   "source": [
    "Phần chính của K-means"
   ]
  },
  {
   "cell_type": "code",
   "execution_count": 17,
   "metadata": {},
   "outputs": [],
   "source": [
    "def kmeans(X, K):\n",
    "    centroids = [kmeans_init_centroids(X, K)]\n",
    "    labels = []\n",
    "    it = 0\n",
    "    while True:\n",
    "        labels.append(kmeans_assign_labels(X, centroids[-1]))\n",
    "        new_centroids = kmeans_update_centroids(X, labels[-1], K)\n",
    "        if has_converged(centroids[-1], new_centroids):\n",
    "            break\n",
    "        centroids.append(new_centroids)\n",
    "        it += 1\n",
    "    return (centroids, labels, it)\n"
   ]
  },
  {
   "cell_type": "markdown",
   "metadata": {},
   "source": [
    "Áp dụng thuật toán vào dữ liệu ban đầu:"
   ]
  },
  {
   "cell_type": "code",
   "execution_count": 18,
   "metadata": {},
   "outputs": [
    {
     "name": "stdout",
     "output_type": "stream",
     "text": [
      "Centers found by our algorithm:\n",
      " [[3.02702878 5.95686115]\n",
      " [8.07476866 3.01494931]\n",
      " [1.9834967  1.96588127]]\n"
     ]
    }
   ],
   "source": [
    "centroids, labels, it = kmeans(X, K)\n",
    "print('Centers found by our algorithm:\\n', centroids[-1])"
   ]
  },
  {
   "cell_type": "markdown",
   "metadata": {},
   "source": [
    "### Sử dụng thư viện của `sk-learn`"
   ]
  },
  {
   "cell_type": "code",
   "execution_count": 15,
   "metadata": {},
   "outputs": [
    {
     "name": "stdout",
     "output_type": "stream",
     "text": [
      "Centers found by scikit-learn:\n",
      "[[3.02801296 5.96081708]\n",
      " [8.07476866 3.01494931]\n",
      " [1.98459808 1.96989964]]\n"
     ]
    },
    {
     "name": "stderr",
     "output_type": "stream",
     "text": [
      "c:\\Users\\Thang\\AppData\\Local\\Programs\\Python\\Python311\\Lib\\site-packages\\sklearn\\cluster\\_kmeans.py:1416: FutureWarning: The default value of `n_init` will change from 10 to 'auto' in 1.4. Set the value of `n_init` explicitly to suppress the warning\n",
      "  super()._check_params_vs_input(X, default_n_init=10)\n"
     ]
    }
   ],
   "source": [
    "from sklearn.cluster import KMeans\n",
    "model = KMeans(n_clusters=3, random_state=0, n_init = 10).fit(X)\n",
    "print('Centers found by scikit-learn:')\n",
    "print(model.cluster_centers_)\n",
    "\n",
    "pred_labels = model.predict(X)"
   ]
  },
  {
   "cell_type": "markdown",
   "metadata": {},
   "source": [
    "Ta thấy kết quả rất gần với kỳ vọng"
   ]
  }
 ],
 "metadata": {
  "kernelspec": {
   "display_name": "Python 3",
   "language": "python",
   "name": "python3"
  },
  "language_info": {
   "codemirror_mode": {
    "name": "ipython",
    "version": 3
   },
   "file_extension": ".py",
   "mimetype": "text/x-python",
   "name": "python",
   "nbconvert_exporter": "python",
   "pygments_lexer": "ipython3",
   "version": "3.11.3"
  }
 },
 "nbformat": 4,
 "nbformat_minor": 2
}
