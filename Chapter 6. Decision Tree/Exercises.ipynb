{
 "cells": [
  {
   "cell_type": "markdown",
   "metadata": {},
   "source": [
    "# Exercises"
   ]
  },
  {
   "cell_type": "markdown",
   "metadata": {},
   "source": [
    "## 1. What is the approximate depth of a decision tree trained (without restrictions) on a training set with one million instances?\n",
    "\n",
    "The approximate depth of a decision tree trained (without restrictions) on a training set with one million instances is about $log_2{10^6} \\approx 20$"
   ]
  },
  {
   "cell_type": "markdown",
   "metadata": {},
   "source": [
    "## 2. Is a node’s Gini impurity generally lower or higher than its parent’s? Is it generally lower/higher, or always lower/higher?\n",
    "\n",
    "A node's Gini impurity is generally lower than its parents."
   ]
  },
  {
   "cell_type": "markdown",
   "metadata": {},
   "source": [
    "## 3. If a decision tree is overfitting the training set, is it a good idea to try decreasing max_depth?\n",
    "\n",
    "Definitely yes, because `max_depth` parameter is a regularization, will constrains the model."
   ]
  },
  {
   "cell_type": "markdown",
   "metadata": {},
   "source": [
    "## 4. If a decision tree is underfitting the training set, is it a good idea to try scaling the input features?\n",
    "\n",
    "No, because the decision tree doesn't need the cleaning data. Scaling the input will not change the result."
   ]
  },
  {
   "cell_type": "markdown",
   "metadata": {},
   "source": [
    "## 5. If it takes one hour to train a decision tree on a training set containing one million instances, roughly how much time will it take to train another decision tree on a training set containing ten million instances? Hint: consider the CARTalgorithm’s computational complexity.\n",
    "\n",
    "Computational Complexity: $O(n \\times m log_2 (m))$ If you train ten million instances equal 10 times of initial the number of instances. We will set a scale: $(n \\times 10m log2_(10m)) / (n \\times m log2(m)) = 10 \\times log2(10m) / log2(m)$ Then subs $m = 10^6 \\to 11.7 \\to$ take 11.7 hours to train."
   ]
  },
  {
   "cell_type": "markdown",
   "metadata": {},
   "source": [
    "## 6. If it takes one hour to train a decision tree on a given training set, roughly how much time will it take if you double the number of features?\n",
    "\n",
    "Computational Complexity: $O(n \\times m log2(m))$ We will set a scale again:\n",
    "\n",
    "$(n \\times m log2(m)) / (2n \\times m log2(m)) = 1/2 \\to $ take $2$ hour to train. $\\to$ take double time to train."
   ]
  },
  {
   "cell_type": "markdown",
   "metadata": {},
   "source": [
    "## 7. Train and fine-tune a decision tree for the moons dataset by following these steps:\n",
    "\n",
    "a. Use make_moons(n_samples=10000, noise=0.4) to generate a moons dataset.\n",
    "\n",
    "b. Use train_test_split() to split the dataset into a training set and a test set.\n",
    "\n",
    "c. Use grid search with cross-validation (with the help of the GridSearchCV\n",
    "class) to find good hyperparameter values for a DecisionTreeClassifier.\n",
    "Hint: try various values for max_leaf_nodes.\n",
    "\n",
    "d. Train it on the full training set using these hyperparameters, and measure\n",
    "your model’s performance on the test set. You should get roughly 85% to 87%\n",
    "accuracy."
   ]
  },
  {
   "cell_type": "code",
   "execution_count": 1,
   "metadata": {},
   "outputs": [
    {
     "name": "stdout",
     "output_type": "stream",
     "text": [
      "{'max_leaf_nodes': 4}\n"
     ]
    }
   ],
   "source": [
    "import numpy as np\n",
    "import matplotlib.pyplot as plt\n",
    "from sklearn.datasets import make_moons\n",
    "from sklearn.model_selection import train_test_split\n",
    "from sklearn.metrics import accuracy_score\n",
    "from sklearn.model_selection import GridSearchCV\n",
    "from sklearn.tree import DecisionTreeClassifier\n",
    "\n",
    "# generate data\n",
    "X, y = make_moons(n_samples=10000, noise = 0.4, random_state=42)\n",
    "\n",
    "X_train, X_test, y_train, y_test = train_test_split(X, y, test_size=0.2, random_state=42)\n",
    "param = {\n",
    "    \"max_leaf_nodes\": [2, 3, 4, 5, 6, 7, 8, 9, 10]\n",
    "}\n",
    "\n",
    "my_tree = DecisionTreeClassifier(random_state=42)\n",
    "\n",
    "grid_search = GridSearchCV(my_tree, param, cv=5, scoring='accuracy')\n",
    "grid_search.fit(X_train, y_train)\n",
    "print(grid_search.best_params_)"
   ]
  },
  {
   "cell_type": "code",
   "execution_count": 2,
   "metadata": {},
   "outputs": [
    {
     "name": "stdout",
     "output_type": "stream",
     "text": [
      "0.863\n"
     ]
    }
   ],
   "source": [
    "best_model = grid_search.best_estimator_\n",
    "best_model.fit(X_train, y_train)\n",
    "\n",
    "y_pred = best_model.predict(X_test)\n",
    "print(accuracy_score(y_test, y_pred))"
   ]
  },
  {
   "cell_type": "markdown",
   "metadata": {},
   "source": [
    "## 8. Grow a forest by following these steps:\n",
    "\n",
    "a. Continuing the previous exercise, generate 1,000 subsets of the training set,\n",
    "each containing 100 instances selected randomly. Hint: you can use ScikitLearn’s ShuffleSplit class for this.\n",
    "\n",
    "b. Train one decision tree on each subset, using the best hyperparameter values\n",
    "found in the previous exercise. Evaluate these 1,000 decision trees on the test\n",
    "set. Since they were trained on smaller sets, these decision trees will likely\n",
    "perform worse than the first decision tree, achieving only about 80% accuracy.\n",
    "\n",
    "c. Now comes the magic. For each test set instance, generate the predictions of\n",
    "the 1,000 decision trees, and keep only the most frequent prediction (you can\n",
    "use SciPy’s mode() function for this). This approach gives you majority-vote\n",
    "predictions over the test set.\n",
    "\n",
    "d. Evaluate these predictions on the test set: you should obtain a slightly higher\n",
    "accuracy than your first model (about 0.5 to 1.5% higher). Congratulations,\n",
    "you have trained a random forest classifier!"
   ]
  },
  {
   "cell_type": "code",
   "execution_count": 3,
   "metadata": {},
   "outputs": [
    {
     "name": "stdout",
     "output_type": "stream",
     "text": [
      "0.8347645\n"
     ]
    }
   ],
   "source": [
    "from sklearn.base import clone\n",
    "forest = [clone(grid_search.best_estimator_) for i in range(1000)]\n",
    "# a.\n",
    "from sklearn.model_selection import ShuffleSplit\n",
    "rs = ShuffleSplit(n_splits=1000, test_size=len(X_train) - 100, random_state=42)\n",
    "mini_sets = []\n",
    "for mini_train_index, mini_test_index in rs.split(X_train):\n",
    "    X_mini_train = X_train[mini_train_index]\n",
    "    y_mini_train = y_train[mini_train_index]\n",
    "    mini_sets.append((X_mini_train, y_mini_train))\n",
    "# b.\n",
    "\n",
    "accuracy_scores = []\n",
    "for i in range(len(mini_sets)):\n",
    "    forest[i].fit(mini_sets[i][0], mini_sets[i][1])\n",
    "    y_pred = forest[i].predict(X_test)\n",
    "    accuracy_scores.append(accuracy_score(y_test, y_pred))\n",
    "\n",
    "print(np.mean(accuracy_scores))\n"
   ]
  },
  {
   "cell_type": "code",
   "execution_count": 4,
   "metadata": {},
   "outputs": [],
   "source": [
    "# c.\n",
    "Y_pred = []\n",
    "\n",
    "for tree in forest:\n",
    "    Y_pred.append(tree.predict(X_test))\n",
    "\n",
    "from scipy.stats import mode\n",
    "y_pred_majority_votes, n_votes = mode(Y_pred, axis=0)"
   ]
  },
  {
   "cell_type": "code",
   "execution_count": 5,
   "metadata": {},
   "outputs": [
    {
     "data": {
      "text/plain": [
       "0.8715"
      ]
     },
     "execution_count": 5,
     "metadata": {},
     "output_type": "execute_result"
    }
   ],
   "source": [
    "accuracy_score(y_test, y_pred_majority_votes.reshape([-1]))"
   ]
  },
  {
   "cell_type": "code",
   "execution_count": null,
   "metadata": {},
   "outputs": [],
   "source": []
  }
 ],
 "metadata": {
  "kernelspec": {
   "display_name": "Python 3",
   "language": "python",
   "name": "python3"
  },
  "language_info": {
   "codemirror_mode": {
    "name": "ipython",
    "version": 3
   },
   "file_extension": ".py",
   "mimetype": "text/x-python",
   "name": "python",
   "nbconvert_exporter": "python",
   "pygments_lexer": "ipython3",
   "version": "3.12.2"
  }
 },
 "nbformat": 4,
 "nbformat_minor": 2
}
