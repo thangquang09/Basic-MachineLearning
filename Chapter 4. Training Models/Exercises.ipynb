{
 "cells": [
  {
   "cell_type": "markdown",
   "metadata": {},
   "source": [
    "# Exercises"
   ]
  },
  {
   "cell_type": "markdown",
   "metadata": {},
   "source": [
    "## 1. Which linear regression training algorithm can you use if you have a training set with millions of features?\n",
    "\n",
    "Batch GD, Stochastic GD, Mini-batch GD are linear regression training algorithms can be used if I have a training set with millions of features.\n",
    "- Batch GD: This algorithm update model's parameters based on the whole training set. It is possible to save computing times.\n",
    "- Stochastic GD: Each epoch, this algorithm only use 1 instance of the training data to update model's parameter. \n",
    "- Mini-batch GD: This can performance boots from GPUs to compute large matrix."
   ]
  },
  {
   "cell_type": "markdown",
   "metadata": {},
   "source": [
    "## 2. Suppose the features in your training set have very different scales. Which algorithms might suffer from this, and how? What can you do about it?\n",
    "\n",
    "The gradient descent algorithm might suffer from different scales features. It take more time to reach the minimum. We can use Features Scaling skill to make features have the same scale."
   ]
  },
  {
   "cell_type": "markdown",
   "metadata": {},
   "source": [
    "## 3. Can gradient descent get stuck in a local minimum when training a logistic regression model?\n",
    "\n",
    "Gradient descent cannot get stuck in a local minimum when training a logistic regression model. Because Logistic cost function partial derivative looks very much like Linear Regression cost function partial derivative. Both are convex function."
   ]
  },
  {
   "cell_type": "markdown",
   "metadata": {},
   "source": [
    "## 4. Do all gradient descent algorithms lead to the same model, provided you let them run long enough?\n",
    "\n",
    "Maybe no, the figure below shows that the batch GD is actually reaches the minimum, while both Stochastic GD and Mini-batch GD are walk around. You have to let them run long enough and choose the best learning rate, then all GD algorithms will lead to the same model.\n",
    "\n",
    "![gradient_descent_figure](images/gradient_descent_paths_plot.png)"
   ]
  },
  {
   "cell_type": "markdown",
   "metadata": {},
   "source": [
    "## 5.Suppose you use batch gradient descent and you plot the validation error at every epoch. If you notice that the validation error consistently goes up, what is likely going on? How can you fix this?\n",
    "\n",
    "I think the model is overfitting. Perhaps because high learning rate, then the model go over optimal solution and lead to overfitting or number of epochs too large.\n",
    "\n",
    "I will fix this by decreasing learning rate and the number of epochs."
   ]
  },
  {
   "cell_type": "markdown",
   "metadata": {},
   "source": [
    "## 6. Is it a good idea to stop mini-batch gradient descent immediately when the validation error goes up?\n",
    "\n",
    "Stop mini-batch gradient descent immediately when the validation error goes up is can not be a good idea. It is mainly because mini-batch work like stochastic GD. It random then previous solution could not be the minimum. If stop immediately when the validation error goes up maybe you stop too soon. "
   ]
  },
  {
   "cell_type": "markdown",
   "metadata": {},
   "source": [
    "## 7. Which gradient descent algorithm (among those we discussed) will reach the vicinity of the optimal solution the fastest? Which will actually converge? How can you make the others converge as well?\n",
    "\n",
    "I think stochastic GD will reach the vicinity of the optimal solution the fastest. Batch GD will actually converge because it use whole training data to compute every epoch. I can make the others converge as well by choosing a good learning schedule."
   ]
  },
  {
   "cell_type": "markdown",
   "metadata": {},
   "source": [
    "## 8. Suppose you are using polynomial regression. You plot the learning curves and you notice that there is a large gap between the training error and the validation error. What is happening? What are three ways to solve this?\n",
    "\n",
    "If there is a large gap between the training error and the validation error. Maybe the model is overfitting because the model is perform good on training set but worse on validation.\n",
    "\n",
    "Three ways to solve this:\n",
    "\n",
    "- Increase model's bias to reduce its variance.\n",
    "- Choose right degree of Polynomial Features.\n",
    "- Use Regularized Linear Regression."
   ]
  },
  {
   "cell_type": "markdown",
   "metadata": {},
   "source": [
    "## 9. Suppose you are using ridge regression and you notice that the training error and the validation error are almost equal and fairly high. Would you say that the model suffers from high bias or high variance? Should you increase the regularization hyperparameter $\\alpha$ or reduce it?\n",
    "\n",
    "That model suffers from high bias because training error and validation error are almost equal and fairly high $\\to$ underfitting. I will reduce hyperparameter $\\alpha$ to increase variance and reduce bias. "
   ]
  },
  {
   "cell_type": "markdown",
   "metadata": {},
   "source": [
    "## 10. Why would you want to use:\n",
    "\n",
    "**a. Ridge regression instead of plain linear regression (i.e., without any\n",
    "regularization)?**\n",
    "\n",
    "**b. Lasso instead of ridge regression?**\n",
    "\n",
    "**c. Elastic net instead of lasso regression?**\n",
    "\n",
    "Answer:\n",
    "\n",
    "**a.** I want to use Ridge regression instead of plain linear regression because it can reduce overfitting situation. Ridge is good for default.\n",
    "\n",
    "**b.** I want to use Lasso instead of Ridge regression because I suspect that a few of features can be useful. Then lasso will perform greater than Ridge.\n",
    "\n",
    "**c.** I use Elastic net instead of Lasso Regression because of flexibility of Elastic. I can modify $r$ ratio to use both of Ridge and Lasso, Lasso will behave erratically when the number of features is greater than the number of training instances or several features are strongly correlated.  "
   ]
  },
  {
   "cell_type": "markdown",
   "metadata": {},
   "source": [
    "## 11. Suppose you want to classify pictures as outdoor/indoor and daytime/nighttime. Should you implement two logistic regression classifiers or one softmax regression classifier?\n",
    "\n",
    "I will implement two logistic regressions. One for outdoor/indoor, another for day/night, because in this case, the problem is multiple output. Then I use two logistic regressions. "
   ]
  },
  {
   "cell_type": "markdown",
   "metadata": {},
   "source": [
    "## 12. Implement batch gradient descent with early stopping for softmax regression without using Scikit-Learn, only NumPy. Use it on a classification task such as the iris dataset"
   ]
  },
  {
   "cell_type": "code",
   "execution_count": 52,
   "metadata": {},
   "outputs": [
    {
     "data": {
      "text/plain": [
       "['data',\n",
       " 'target',\n",
       " 'frame',\n",
       " 'target_names',\n",
       " 'DESCR',\n",
       " 'feature_names',\n",
       " 'filename',\n",
       " 'data_module']"
      ]
     },
     "execution_count": 52,
     "metadata": {},
     "output_type": "execute_result"
    }
   ],
   "source": [
    "from sklearn.datasets import load_iris\n",
    "iris = load_iris(as_frame = True)\n",
    "list(iris)"
   ]
  },
  {
   "cell_type": "code",
   "execution_count": 53,
   "metadata": {},
   "outputs": [
    {
     "data": {
      "text/plain": [
       "(array(['setosa', 'versicolor', 'virginica'], dtype='<U10'),\n",
       " ['sepal length (cm)',\n",
       "  'sepal width (cm)',\n",
       "  'petal length (cm)',\n",
       "  'petal width (cm)'])"
      ]
     },
     "execution_count": 53,
     "metadata": {},
     "output_type": "execute_result"
    }
   ],
   "source": [
    "iris.target_names, iris.feature_names # 3 class"
   ]
  },
  {
   "cell_type": "code",
   "execution_count": 54,
   "metadata": {},
   "outputs": [],
   "source": [
    "import numpy as np"
   ]
  },
  {
   "cell_type": "code",
   "execution_count": 55,
   "metadata": {},
   "outputs": [],
   "source": [
    "X = iris.data[[\"petal length (cm)\", \"petal width (cm)\"]]\n",
    "y = iris[\"target\"].values\n",
    "\n",
    "X_b = np.c_[np.ones(len(X)), X] # add bias term\n",
    "\n",
    "test_ratio = 0.2\n",
    "valid_ratio = 0.2\n",
    "total_instances = len(X)\n",
    "test_size = int(total_instances * test_ratio)\n",
    "valid_size = int(total_instances * valid_ratio)\n",
    "train_size = total_instances - test_size - valid_size\n",
    "\n",
    "np.random.seed(42)\n",
    "index_permutation = np.random.permutation(total_instances)\n",
    "\n",
    "X_train = X_b[index_permutation[: train_size]]\n",
    "y_train = y[index_permutation[: train_size]]\n",
    "X_test = X_b[index_permutation[train_size:-test_size]]\n",
    "y_test = y[index_permutation[train_size:-test_size]]\n",
    "X_valid = X_b[index_permutation[-test_size:]]\n",
    "y_valid = y[index_permutation[-test_size:]]"
   ]
  },
  {
   "cell_type": "code",
   "execution_count": 56,
   "metadata": {},
   "outputs": [
    {
     "data": {
      "text/plain": [
       "((90, 3), (90,))"
      ]
     },
     "execution_count": 56,
     "metadata": {},
     "output_type": "execute_result"
    }
   ],
   "source": [
    "X_train.shape, y_train.shape ## 4 features, 90 samples"
   ]
  },
  {
   "cell_type": "markdown",
   "metadata": {},
   "source": [
    "### Some equations\n",
    "\n",
    "**1. Softmax score for class $k$**\n",
    "\n",
    "$$s_k(\\mathbf{x})=\\left(\\mathbf{\\theta}^{(k)}\\right)^\\intercal\\mathbf{x}$$\n",
    "\n",
    "**2. Softmax function**\n",
    "\n",
    "$$\\widehat{p}_k=\\sigma(\\mathbf{s}(\\mathbf{x}))_k=\\frac{\\exp\\left(s_k(\\mathbf{x})\\right)}{\\Sigma_{j = 1}^K \\exp\\left(s_j(\\mathbf{x})\\right)}$$\n",
    "\n",
    "**3. Softmax regression classifier prediction**\n",
    "\n",
    "$$\\widehat{y}=\\underset{k}{\\operatorname*{argmax}} \\sigma(\\mathbf{s}(\\mathbf{x}))_k=\\underset{k}{\\operatorname*{argmax}} s_k(\\mathbf{x})=\\underset{k}{\\operatorname*{argmax}} \\left(\\left(\\mathbf{\\theta}^{(k)}\\right)^{\\mathsf{T}}\\mathbf{x}\\right)$$\n",
    "\n",
    "**4. Coss entropy cost function**\n",
    "\n",
    "$$J(\\boldsymbol{\\Theta})=-\\frac{1}{m}\\Sigma_{i = 1}^m\\Sigma_{k = 1}^Ky_k^{(i)}\\mathrm{log}\\Big(\\widehat{p}_k^{(i)}\\Big)$$\n",
    "\n",
    "$$\\frac\\partial{\\partial\\theta_j}\\mathrm{J}(\\mathbf{\\theta})=\\frac1m\\sum_{i = 1}^m\\left(\\sigma\\Big(\\mathbf{\\theta}^\\mathsf{T}\\mathbf{x}^{(i)}\\Big)-y^{(i)}\\Big)x_j^{(i)}\\right.$$"
   ]
  },
  {
   "cell_type": "code",
   "execution_count": 57,
   "metadata": {},
   "outputs": [],
   "source": [
    "## scale data\n",
    "mean = X_train[:, 1:].mean(axis = 0)\n",
    "std = X_train[:, 1:].std(axis = 0)\n",
    "X_train[:, 1:] = (X_train[:, 1:] - mean) / std\n",
    "X_test[:, 1:] = (X_test[:, 1:]- mean) / std\n",
    "X_valid[:, 1:] = (X_valid[:, 1:] - mean) / std"
   ]
  },
  {
   "cell_type": "code",
   "execution_count": 58,
   "metadata": {},
   "outputs": [],
   "source": [
    "def one_hot(y):\n",
    "    ones = np.zeros((len(y), y.max() + 1))\n",
    "    for i in range(len(y)):\n",
    "        ones[i][y[i]] = 1\n",
    "    return ones"
   ]
  },
  {
   "cell_type": "code",
   "execution_count": 59,
   "metadata": {},
   "outputs": [],
   "source": [
    "y_train = one_hot(y_train)\n",
    "y_valid = one_hot(y_valid)\n",
    "y_test = one_hot(y_test)"
   ]
  },
  {
   "cell_type": "code",
   "execution_count": 60,
   "metadata": {},
   "outputs": [
    {
     "data": {
      "text/plain": [
       "(3, 3)"
      ]
     },
     "execution_count": 60,
     "metadata": {},
     "output_type": "execute_result"
    }
   ],
   "source": [
    "n_features = X_b.shape[1] \n",
    "K = len(np.unique(y))\n",
    "n_features, K"
   ]
  },
  {
   "cell_type": "code",
   "execution_count": 61,
   "metadata": {},
   "outputs": [],
   "source": [
    "def softmax_function(logits):\n",
    "    return np.exp(logits) / np.exp(logits).sum(axis = 1, keepdims = True)"
   ]
  },
  {
   "cell_type": "code",
   "execution_count": 72,
   "metadata": {},
   "outputs": [],
   "source": [
    "eta = 0.5\n",
    "n_epochs = 5000\n",
    "m = len(X_train)\n",
    "epsilon = 1e-5\n",
    "\n",
    "np.random.seed(42)\n",
    "Theta = np.random.rand(n_features, K)\n",
    "\n",
    "entropys = []\n",
    "best_Theta = 10e7\n",
    "best_epoch = 10e7\n",
    "best_entropy_loss = 10e7\n",
    "\n",
    "for epoch in range(n_epochs):\n",
    "    logits = X_train @ Theta\n",
    "    p_hat_train = softmax_function(logits)\n",
    "    p_hat_valid = softmax_function(X_valid @ Theta)\n",
    "    error_train = p_hat_train - y_train\n",
    "    error_valid = p_hat_valid - y_valid\n",
    "\n",
    "    entropy_loss = (-y_valid * np.log(p_hat_valid + epsilon)).sum(axis = 1).mean()\n",
    "    if len(entropys) > 1 and entropy_loss > entropys[-1]:\n",
    "        if best_entropy_loss and best_entropy_loss > entropys[-1]:\n",
    "            best_entropy_loss = entropys[-1]\n",
    "            best_Theta = Theta\n",
    "            best_epoch = epoch\n",
    "\n",
    "    \n",
    "    entropys.append(entropy_loss)\n",
    "    gradients = 1/m * X_train.T @ error_train\n",
    "    Theta = Theta - eta * gradients"
   ]
  },
  {
   "cell_type": "code",
   "execution_count": 73,
   "metadata": {},
   "outputs": [
    {
     "name": "stdout",
     "output_type": "stream",
     "text": [
      "Best entropy loss = 0.07125980803117586, best_epoch = 2150\n"
     ]
    }
   ],
   "source": [
    "print(f\"Best entropy loss = {best_entropy_loss}, best_epoch = {best_epoch}\")"
   ]
  },
  {
   "cell_type": "code",
   "execution_count": 64,
   "metadata": {},
   "outputs": [
    {
     "data": {
      "text/plain": [
       "array([[ 0.51666075,  5.32987885, -3.78929124],\n",
       "       [-5.11371527,  0.19839672,  5.8259902 ],\n",
       "       [-4.68005491, -0.24497502,  6.45040469]])"
      ]
     },
     "execution_count": 64,
     "metadata": {},
     "output_type": "execute_result"
    }
   ],
   "source": [
    "best_Theta"
   ]
  },
  {
   "cell_type": "code",
   "execution_count": 80,
   "metadata": {},
   "outputs": [
    {
     "data": {
      "image/png": "[encoded data removed]",
      "text/plain": [
       "<Figure size 640x480 with 1 Axes>"
      ]
     },
     "metadata": {},
     "output_type": "display_data"
    }
   ],
   "source": [
    "import matplotlib.pyplot as plt\n",
    "plt.plot(np.linspace(1, n_epochs, n_epochs), entropys, \"b-\")\n",
    "plt.plot([best_epoch], [best_entropy_loss], \"r.\", markersize = 10)\n",
    "plt.grid()\n",
    "plt.show()"
   ]
  },
  {
   "cell_type": "code",
   "execution_count": 65,
   "metadata": {},
   "outputs": [],
   "source": [
    "logits = X_valid @ best_Theta\n",
    "p_hat = softmax_function(logits)\n",
    "y_predict_valid = p_hat.argmax(axis = 1)"
   ]
  },
  {
   "cell_type": "code",
   "execution_count": 66,
   "metadata": {},
   "outputs": [
    {
     "data": {
      "text/plain": [
       "0.98"
      ]
     },
     "execution_count": 66,
     "metadata": {},
     "output_type": "execute_result"
    }
   ],
   "source": [
    "accuracy_valid = (one_hot(y_predict_valid) == y_valid).mean()\n",
    "accuracy_valid.round(2)"
   ]
  },
  {
   "cell_type": "markdown",
   "metadata": {},
   "source": [
    "### Evaluate on test set"
   ]
  },
  {
   "cell_type": "code",
   "execution_count": 67,
   "metadata": {},
   "outputs": [
    {
     "data": {
      "text/plain": [
       "0.96"
      ]
     },
     "execution_count": 67,
     "metadata": {},
     "output_type": "execute_result"
    }
   ],
   "source": [
    "logits_test = X_test @ best_Theta\n",
    "p_hat_test = softmax_function(logits_test)\n",
    "y_predict_test = p_hat_test.argmax(axis = 1)\n",
    "accuracy_test = (one_hot(y_predict_test) == y_test).mean()\n",
    "accuracy_test.round(2)"
   ]
  }
 ],
 "metadata": {
  "kernelspec": {
   "display_name": "Python 3",
   "language": "python",
   "name": "python3"
  },
  "language_info": {
   "codemirror_mode": {
    "name": "ipython",
    "version": 3
   },
   "file_extension": ".py",
   "mimetype": "text/x-python",
   "name": "python",
   "nbconvert_exporter": "python",
   "pygments_lexer": "ipython3",
   "version": "3.12.2"
  }
 },
 "nbformat": 4,
 "nbformat_minor": 2
}
