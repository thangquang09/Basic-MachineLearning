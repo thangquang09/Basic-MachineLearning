{
 "cells": [
  {
   "cell_type": "markdown",
   "metadata": {},
   "source": [
    "# Linear Regression"
   ]
  },
  {
   "cell_type": "markdown",
   "metadata": {},
   "source": [
    "Xét một bài toán đơn giản áp dụng hồi quy tuyến tính. Ta so sánh nghiệm của bài toán khi giải phương trình $(12)$ và nghiệm tìm được khi dùng thư viện sklearn của Python"
   ]
  },
  {
   "cell_type": "code",
   "execution_count": 1,
   "metadata": {},
   "outputs": [],
   "source": [
    "from __future__ import print_function\n",
    "import numpy as np\n",
    "import pandas as pd\n",
    "import matplotlib.pyplot as plt\n",
    "X = np.array([[147, 150, 153, 158, 163, 165, 168, 170, 173, 175, 178, 180,\n",
    "183]]).T \n",
    "#height (cm), input data, each row is a data point\n",
    "y = np.array([49, 50, 51, 54, 58, 59, 60, 62, 63, 64, 66, 67, 68])"
   ]
  },
  {
   "cell_type": "markdown",
   "metadata": {},
   "source": [
    "### Minh họa dữ liệu"
   ]
  },
  {
   "cell_type": "code",
   "execution_count": 2,
   "metadata": {},
   "outputs": [
    {
     "data": {
      "image/png": "[encoded data removed]",
      "text/plain": [
       "<Figure size 640x480 with 1 Axes>"
      ]
     },
     "metadata": {},
     "output_type": "display_data"
    }
   ],
   "source": [
    "plt.plot(X, y, color = 'red', marker = 'o')\n",
    "plt.show();"
   ]
  },
  {
   "cell_type": "markdown",
   "metadata": {},
   "source": [
    "Dễ thấy dữ liệu được minh họa bởi các điểm tròn sắp xếp gần như là 1 đường thẳng"
   ]
  },
  {
   "cell_type": "markdown",
   "metadata": {},
   "source": [
    "$(cân\\ nặng) = w_1 * (chiều\\ cao) + w_0$"
   ]
  },
  {
   "cell_type": "markdown",
   "metadata": {},
   "source": [
    "### Tìm nghiệm theo công thức"
   ]
  },
  {
   "cell_type": "code",
   "execution_count": 3,
   "metadata": {},
   "outputs": [
    {
     "name": "stdout",
     "output_type": "stream",
     "text": [
      "-33.735410206298866\n",
      "0.5592049619425978\n"
     ]
    }
   ],
   "source": [
    "# Building Xbar\n",
    "one = np.ones((X.shape[0], 1))\n",
    "Xbar = np.concatenate((one, X), axis = 1) # mỗi hàng là một điểm dữ liệu đã thêm tham số x_0 = 1\n",
    "# Calculating weights of the linear regression model\n",
    "A = Xbar.T @ Xbar\n",
    "b = Xbar.T @ y\n",
    "w = np.linalg.pinv(A) @ b # np.linalg.pinv là ma trận giả nghịch đảo\n",
    "#weights\n",
    "w_0, w_1 = w[0], w[1]\n",
    "print(w_0)\n",
    "print(w_1)"
   ]
  },
  {
   "cell_type": "code",
   "execution_count": 4,
   "metadata": {},
   "outputs": [
    {
     "name": "stdout",
     "output_type": "stream",
     "text": [
      "Input 155cm, true output 52kg, predicted output 52.94kg.\n",
      "Input 160cm, true output 56kg, predicted output 58.53kg.\n"
     ]
    }
   ],
   "source": [
    "y1 = w_1*155 + w_0\n",
    "y2 = w_1*165 + w_0\n",
    "print('Input 155cm, true output 52kg, predicted output %.2fkg.' %(y1) )\n",
    "print('Input 160cm, true output 56kg, predicted output %.2fkg.' %(y2) )"
   ]
  },
  {
   "cell_type": "markdown",
   "metadata": {},
   "source": [
    "### Tìm nghiệm bằng thư viện sklearn"
   ]
  },
  {
   "cell_type": "code",
   "execution_count": 5,
   "metadata": {},
   "outputs": [
    {
     "name": "stdout",
     "output_type": "stream",
     "text": [
      "scikit-learn’s solution: w_1 =  0.5592049619396674 w_0 =  -33.73541020580774\n"
     ]
    }
   ],
   "source": [
    "from sklearn.linear_model import LinearRegression\n",
    "lin_reg = LinearRegression()\n",
    "lin_reg.fit(X, y)\n",
    "print(\"scikit-learn's solution: w_1 = \", lin_reg.coef_[0], \"w_0 = \",lin_reg.intercept_)\n"
   ]
  },
  {
   "cell_type": "markdown",
   "metadata": {},
   "source": [
    "Ta thấy w_0 và w_1 với 2 cách là như nhau"
   ]
  },
  {
   "cell_type": "code",
   "execution_count": 6,
   "metadata": {},
   "outputs": [
    {
     "name": "stdout",
     "output_type": "stream",
     "text": [
      "Input 155cm, true output 52kg, predicted output [52.94135889] kg.\n",
      "Input 160cm, true output 56kg, predicted output [58.53340851] kg.\n"
     ]
    }
   ],
   "source": [
    "print(\"Input 155cm, true output 52kg, predicted output {} kg.\".format(lin_reg.predict([[155]])))\n",
    "print(\"Input 160cm, true output 56kg, predicted output {} kg.\".format(lin_reg.predict([[165]])))"
   ]
  },
  {
   "cell_type": "markdown",
   "metadata": {},
   "source": []
  }
 ],
 "metadata": {
  "kernelspec": {
   "display_name": "Python 3",
   "language": "python",
   "name": "python3"
  },
  "language_info": {
   "codemirror_mode": {
    "name": "ipython",
    "version": 3
   },
   "file_extension": ".py",
   "mimetype": "text/x-python",
   "name": "python",
   "nbconvert_exporter": "python",
   "pygments_lexer": "ipython3",
   "version": "3.11.6"
  }
 },
 "nbformat": 4,
 "nbformat_minor": 2
}
